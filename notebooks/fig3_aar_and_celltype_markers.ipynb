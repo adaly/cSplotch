{
 "cells": [
  {
   "cell_type": "code",
   "execution_count": 1,
   "id": "b47e2887-4e5f-4d13-a820-ed9c079c5b2a",
   "metadata": {},
   "outputs": [],
   "source": [
    "import os\n",
    "import pickle\n",
    "import numpy as np\n",
    "import pandas as pd\n",
    "import scanpy as sc\n",
    "import anndata as ad\n",
    "import seaborn as sns\n",
    "import matplotlib.pyplot as plt\n",
    "plt.rcParams['svg.fonttype'] = 'none'\n",
    "\n",
    "from tqdm import tqdm\n",
    "from scipy.stats import pearsonr"
   ]
  },
  {
   "cell_type": "code",
   "execution_count": 2,
   "id": "5aea73ba-f83b-4c97-b295-38d9cdc6b56b",
   "metadata": {},
   "outputs": [],
   "source": [
    "### REPLACE with path to AnnData downloaded from GCP ###\n",
    "data_dir = '/Users/adaly/Documents/mouse_colon/csplotch_anndata'\n",
    "adata_betas = sc.read_h5ad(os.path.join(data_dir, 'adata_csplotch_celltype_betas.h5ad'))\n",
    "adata_lambdas = sc.read_h5ad(os.path.join(data_dir, 'adata_csplotch_lambdas.h5ad'))\n",
    "\n",
    "### REPLACE with path to AnnData downloaded from GCP ###\n",
    "data_dir = '/Users/adaly/Dropbox (Simons Foundation)/cell_segmentation_colon/snrna_anndata/'\n",
    "adata_snrna = sc.read_h5ad(os.path.join(data_dir, 'adata_larger_relabeling_after_tsne_stemfiltered_renamed.h5ad'))"
   ]
  },
  {
   "cell_type": "code",
   "execution_count": 3,
   "id": "c9a4a315-23ca-4f15-9ee9-4c10eb17b95f",
   "metadata": {},
   "outputs": [],
   "source": [
    "# Compute mean expression within a cell group\n",
    "def grouped_obs_mean(adata, group_key, layer=None, gene_symbols=None):\n",
    "    if layer is not None:\n",
    "        getX = lambda x: x.layers[layer]\n",
    "    else:\n",
    "        getX = lambda x: x.X\n",
    "    if gene_symbols is not None:\n",
    "        new_idx = adata.var[gene_symbols].values\n",
    "    else:\n",
    "        new_idx = adata.var_names\n",
    "\n",
    "    grouped = adata.obs.groupby(group_key)\n",
    "    out = pd.DataFrame(\n",
    "        np.zeros((adata.shape[1], len(grouped)), dtype=np.float64),\n",
    "        columns=grouped.groups.keys(),\n",
    "        index=new_idx\n",
    "    )\n",
    "\n",
    "    for group, idx in grouped.indices.items():\n",
    "        X = getX(adata[idx])\n",
    "        out[group] = np.ravel(X.mean(axis=0, dtype=np.float64))\n",
    "    return out"
   ]
  },
  {
   "cell_type": "markdown",
   "id": "ef447056-9e34-4f24-baa7-12058ae73e75",
   "metadata": {},
   "source": [
    "Pre-process snRNA-seq data and cSplotch betas"
   ]
  },
  {
   "cell_type": "code",
   "execution_count": 4,
   "id": "869469cb-416d-4d0c-92f9-318047099f50",
   "metadata": {},
   "outputs": [
    {
     "name": "stdout",
     "output_type": "stream",
     "text": [
      "11735 genes in common\n",
      "WARNING: Default of the method has been changed to 't-test' from 't-test_overestim_var'\n"
     ]
    }
   ],
   "source": [
    "# Identify common genes and subset both data modalities\n",
    "common_genes = np.intersect1d(adata_betas.var.index, adata_snrna.var.index)\n",
    "print(len(common_genes), 'genes in common')\n",
    "\n",
    "adata_betas = adata_betas[:, adata_betas.var.index.isin(common_genes)]\n",
    "adata_snrna = adata_snrna[:, adata_snrna.var.index.isin(common_genes)].copy()\n",
    "\n",
    "# Normalize, log-transform, and scale snRNA-seq data\n",
    "sc.pp.normalize_total(adata_snrna, 3959)  # median spot depth across ST data\n",
    "sc.pp.log1p(adata_snrna)\n",
    "\n",
    "# (find marker genes for each cell type prior to scaling)\n",
    "sc.tl.rank_genes_groups(adata_snrna, 'pheno_major_cell_types')\n",
    "df_snrna_markers = sc.get.rank_genes_groups_df(adata_snrna, group=None, pval_cutoff=0.05, log2fc_min=0.5)\n",
    "\n",
    "sc.pp.scale(adata_snrna)\n",
    "\n",
    "# Calculate mean log-scaled expression within each snRNA cell type\n",
    "sn_count_means = grouped_obs_mean(adata_snrna, 'pheno_major_cell_types')"
   ]
  },
  {
   "cell_type": "code",
   "execution_count": null,
   "id": "10216cce-bc26-4155-8c98-62406588a0ef",
   "metadata": {},
   "outputs": [],
   "source": [
    "# Find top marker genes for each cell type\n",
    "n_markers_per = 50\n",
    "snrna_markers = []\n",
    "\n",
    "for ct in sn_count_means.columns:\n",
    "    markers_ct = df_snrna_markers[df_snrna_markers['group'] == ct]\n",
    "    snrna_markers.append(markers_ct['names'][:n_markers_per].values)\n",
    "                        \n",
    "snrna_markers = np.unique(np.concatenate(snrna_markers))\n",
    "print(len(snrna_markers), 'marker genes across %d cell types' % len(sn_count_means.columns))"
   ]
  },
  {
   "cell_type": "code",
   "execution_count": null,
   "id": "aef0f8c1-ecd7-4fef-bbaa-0b283b39c9e6",
   "metadata": {},
   "outputs": [],
   "source": [
    "adata_betas.obs.index = ['%s %s %s' % (b, a, c) for b, a, c in zip(adata_betas.obs.condition, \n",
    "                                         adata_betas.obs.annotation, \n",
    "                                         adata_betas.obs.celltype)]"
   ]
  },
  {
   "cell_type": "code",
   "execution_count": null,
   "id": "7defed8d-3a7c-4483-a6c5-a6966fd2d122",
   "metadata": {},
   "outputs": [
    {
     "name": "stderr",
     "output_type": "stream",
     "text": [
      "100%|███████████████████████████████████████████████████████████████████████████████████████████████████████████████████████████████████████| 28136/28136 [13:31<00:00, 34.68it/s]\n"
     ]
    }
   ],
   "source": [
    "# Create a pseudo-single cell dataset from annotated ST (N_CELLS pseudo-cells per spot in proportions determined by\n",
    "# SPOTlight deconvolution).\n",
    "\n",
    "snrna_types = sn_count_means.columns\n",
    "age_range = ['4w', '6w', '8w', '12w']\n",
    "\n",
    "PCELLS_PER_SPOT = 50\n",
    "pc_betas, pc_aar, pc_region, pc_age, pc_ctype = [],[],[],[],[]\n",
    "\n",
    "obs_ag = adata_lambdas.obs[adata_lambdas.obs.Age.isin(age_range)]\n",
    "\n",
    "for spot in tqdm(obs_ag.index):\n",
    "    region = obs_ag.loc[spot, 'Region']\n",
    "    age = obs_ag.loc[spot, 'Age']\n",
    "    aar = obs_ag.loc[spot, 'annotation']\n",
    "    \n",
    "    for ct in snrna_types:\n",
    "        if ct == 'Myocyte':\n",
    "            ct = 'SMC'\n",
    "        \n",
    "        idx = '%s BL6WT.%s %s %s' % (age, region, aar, ct)\n",
    "        beta_mean = np.array(adata_betas[idx].X).squeeze()\n",
    "\n",
    "        for p in range(int(np.rint(obs_ag.loc[spot, ct] * PCELLS_PER_SPOT))):\n",
    "            pc_betas.append(beta_mean)\n",
    "            pc_aar.append(aar)\n",
    "            pc_region.append(region)\n",
    "            pc_age.append(age)\n",
    "\n",
    "adata_pcells = ad.AnnData(X = np.array(pc_betas),\n",
    "    obs = pd.DataFrame({'aar':pc_aar, 'age':pc_age, 'region':pc_region, 'celltype':pc_ctype}),\n",
    "    var = adata_betas.var)"
   ]
  },
  {
   "cell_type": "code",
   "execution_count": null,
   "id": "64a407a0-4d72-41ac-9e13-b20572f5fd30",
   "metadata": {},
   "outputs": [],
   "source": [
    "# Weighted Betas: z-scale\n",
    "print('Scaling mean betas across all pseudocells...')\n",
    "sc.pp.scale(adata_pcells)"
   ]
  },
  {
   "cell_type": "code",
   "execution_count": null,
   "id": "8f4662f0-91a6-4fb9-9e9b-c167f6326418",
   "metadata": {},
   "outputs": [],
   "source": [
    "def calc_profile_correlation(df_means_st, df_means_sn):\n",
    "    assert df_means_st.index.equals(df_means_sn.index), 'indices do not match!'\n",
    "    st_classes = df_means_st.columns\n",
    "    sn_classes = df_means_sn.columns\n",
    "    \n",
    "    # st_celltypes x sn_celltypes matrix for storing correlations\n",
    "    corr_mat = np.zeros((len(st_classes), len(sn_classes))) \n",
    "    \n",
    "    for i, aar in enumerate(st_classes):\n",
    "        for j, ct in enumerate(sn_classes):\n",
    "            r, p = pearsonr(df_means_st[aar].values, df_means_sn[ct].values)\n",
    "            corr_mat[i,j] = r\n",
    "    \n",
    "    return corr_mat"
   ]
  },
  {
   "cell_type": "code",
   "execution_count": null,
   "id": "1f5d1b50-b5e2-4487-898a-4b932ab8fa75",
   "metadata": {},
   "outputs": [],
   "source": [
    "def plot_scores_dotplot(df, df_size):\n",
    "    # fill with zeros\n",
    "    df = df.fillna(0).T\n",
    "    df_size = df_size.fillna(0).T\n",
    "    \n",
    "    df_size_cut=df_size\n",
    "    \n",
    "    df_size_cut.columns = df.columns\n",
    "    df_size_cut.index = df.index\n",
    "    \n",
    "    # define order\n",
    "    cat_order = df_size_cut.index\n",
    "\n",
    "    obs = pd.DataFrame(df.index, index = df.index, columns = ['Cell type']).astype(\"category\")\n",
    "    mod_anndata = sc.AnnData(df, obs, dtype=np.float32)\n",
    "\n",
    "    # plots\n",
    "    vmin = -0.5\n",
    "    vmax = 0.5\n",
    "    cmap = 'RdBu_r'\n",
    "\n",
    "    plt.rcParams['font.size'] = 10\n",
    "    size_title = 'Mean Spot %'\n",
    "    ax_dict = sc.pl.dotplot(mod_anndata, show=False, var_names = mod_anndata.var_names, dot_size_df = df_size_cut,\n",
    "                            dot_color_df = df, categories_order = cat_order, size_title = size_title, colorbar_title = 'Pearson r',\n",
    "                            groupby = 'Cell type', vmin = vmin, vmax = vmax, cmap=cmap, \n",
    "                            figsize = (len(mod_anndata.obs.index)+2, len(mod_anndata.obs.index)),\n",
    "                            swap_axes=True)\n",
    "\n",
    "    ax_dict['mainplot_ax'].set_yticklabels([i for i in mod_anndata.var_names]) \n",
    "    ax_dict['mainplot_ax'].tick_params(axis='y', labelleft=True, left=True, labelsize = 10, labelrotation = 0, pad = 0)   \n",
    "    ax_dict['mainplot_ax'].tick_params(axis='x', labelbottom=True, bottom=True,labelsize = 10, labelrotation = 90, pad = 0) \n",
    "    ax_dict['mainplot_ax'].grid(visible=True, which='major', axis='both')\n",
    "    ax_dict['size_legend_ax'].set_facecolor('white')\n",
    "    ax_dict['size_legend_ax'].set_aspect(0.2)\n",
    "    ax_dict['color_legend_ax'].set_aspect(0.2)\n",
    "    fig = ax_dict['mainplot_ax'].get_figure()\n",
    "    \n",
    "    plt.xlabel('snRNA-seq')\n",
    "    plt.ylabel('cSplotch')\n",
    "    \n",
    "    return fig, ax_dict"
   ]
  },
  {
   "cell_type": "code",
   "execution_count": 6,
   "id": "03d2926c",
   "metadata": {},
   "outputs": [],
   "source": [
    "def plot_scores_heatmap(df_corr, df_size):\n",
    "    fig, ax = plt.subplots(2, 2, figsize=(5.5,5), constrained_layout=True,\n",
    "                           gridspec_kw={'width_ratios': [3, 1], 'height_ratios': [1, 10]})\n",
    "    \n",
    "    sns.heatmap(df_corr, ax=ax[1,0], vmin=-0.5, vmax=0.5, center=0, cmap='RdBu_r', cbar_ax=ax[0,0],\n",
    "               cbar_kws={'label':\"Pearson's r\", 'orientation':'horizontal'})\n",
    "    ax[1,0].set_ylabel('cSplotch')\n",
    "    ax[1,0].set_xlabel('snRNA-seq')\n",
    "    \n",
    "    ax[1,1].barh(np.arange(len(df_size)), df_size.iloc[:,0], align='edge', height=0.95, color='gray')\n",
    "    ax[1,1].set_yticks([])\n",
    "    ax[1,1].invert_yaxis()\n",
    "    ax[1,1].set_ylim(0, len(df_size))\n",
    "    ax[1,1].set_title('Mean cell fraction', fontsize=9, loc='left')\n",
    "    ax[1,1].spines[['right', 'top']].set_visible(False)\n",
    "    \n",
    "    ax[0,1].axis('off')\n",
    "    \n",
    "    return fig, ax"
   ]
  },
  {
   "cell_type": "code",
   "execution_count": null,
   "id": "7887e7d2-a203-43c7-95b1-c1c00e19757a",
   "metadata": {},
   "outputs": [],
   "source": [
    "# Make correlation heatmap for abundant cell types in each AAR\n",
    "abundant_thresh = 0.05\n",
    "region = 'Proximal'\n",
    "age_range = ['4w', '6w', '8w', '12w']\n",
    "\n",
    "adata_pcells_sub = adata_pcells[np.logical_and(adata_pcells.obs.age.isin(age_range), adata_pcells.obs.region == region)]\n",
    "age_str = age_range[0] + '-' + age_range[-1]\n",
    "\n",
    "# Mean expression profile for each cell type in the niche\n",
    "niche_beta_means = grouped_obs_mean(adata_pcells_sub, 'celltype')\n",
    "\n",
    "for aar in adata_lambdas.obs.annotation.unique():\n",
    "    obs = adata_lambdas.obs[np.logical_and(adata_lambdas.obs.annotation == aar, \n",
    "                                           adata_lambdas.obs.Age.isin(age_range))]\n",
    "    obs = obs[obs.Region == region]\n",
    "    \n",
    "    abundant_celltypes = [ct for ct in snrna_types if obs[ct].mean() > abundant_thresh]\n",
    "    \n",
    "    # Make a celltypes x celltypes DataFrame containing frequency of each cell type in ST data (constant rows)\n",
    "    celltype_freq = obs[abundant_celltypes].mean(axis=0)\n",
    "    df_freq = pd.DataFrame(dict([(ct, celltype_freq) for ct in abundant_celltypes]))\n",
    "        \n",
    "    # Find top marker genes for each cell type that is abundant in current AAR\n",
    "    n_markers_per = 50\n",
    "    snrna_markers_aar = []\n",
    "    for ct in abundant_celltypes:\n",
    "        markers_ct = df_snrna_markers[df_snrna_markers['group'] == ct]\n",
    "        snrna_markers_aar.append(markers_ct['names'][:n_markers_per].values)\n",
    "    snrna_markers_aar = np.unique(np.concatenate(snrna_markers_aar))\n",
    "        \n",
    "    # Calculate mean expression profile for each cell type in current niche\n",
    "    adata_pcells_niche = adata_pcells_sub[adata_pcells_sub.obs.aar == aar]\n",
    "    adata_pcells_niche = adata_pcells_niche[adata_pcells_niche.obs.age.isin(age_range)]\n",
    "    \n",
    "    niche_beta_means = grouped_obs_mean(adata_pcells_niche, 'celltype')\n",
    "    niche_beta_means_cells = niche_beta_means[abundant_celltypes]\n",
    "    \n",
    "    sn_count_means_cells = sn_count_means.loc[niche_beta_means_cells.index, abundant_celltypes]\n",
    "\n",
    "    sn_count_means_cells = sn_count_means_cells.loc[snrna_markers_aar]\n",
    "    niche_beta_means_cells = niche_beta_means_cells.loc[snrna_markers_aar]\n",
    "        \n",
    "    corr_mat = calc_profile_correlation(niche_beta_means_cells, sn_count_means_cells)\n",
    "    df_corr = pd.DataFrame(corr_mat, index=abundant_celltypes, columns=abundant_celltypes)\n",
    "        \n",
    "    #fig, ax_dict = plot_scores_dotplot(df_corr, df_freq)\n",
    "    #ax_dict['mainplot_ax'].set_title(aar)\n",
    "    fig, ax = plot_scores_heatmap(df_corr, df_freq)\n",
    "    plt.show()"
   ]
  },
  {
   "cell_type": "code",
   "execution_count": null,
   "id": "d564d4ff-3d74-4d33-9b3f-b202b4ffb4f7",
   "metadata": {},
   "outputs": [],
   "source": []
  }
 ],
 "metadata": {
  "kernelspec": {
   "display_name": "Python 3",
   "language": "python",
   "name": "python3"
  },
  "language_info": {
   "codemirror_mode": {
    "name": "ipython",
    "version": 3
   },
   "file_extension": ".py",
   "mimetype": "text/x-python",
   "name": "python",
   "nbconvert_exporter": "python",
   "pygments_lexer": "ipython3",
   "version": "3.9.12"
  }
 },
 "nbformat": 4,
 "nbformat_minor": 5
}
