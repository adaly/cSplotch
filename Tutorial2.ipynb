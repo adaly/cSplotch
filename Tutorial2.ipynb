{
 "cells": [
  {
   "cell_type": "markdown",
   "id": "956df94c-4ca6-4657-bad9-d255856ec588",
   "metadata": {},
   "source": [
    "# A simple tutorial on the exploration of cSplotch outputs\n",
    "\n",
    "In contrast to the [previous tutorial](Tutorial.ipynb), this will focus on changes to downstream analysis affected by **running the splotch model with the -s (summary statistics)option**. "
   ]
  },
  {
   "cell_type": "code",
   "execution_count": 33,
   "id": "930016df-21a3-4893-a049-81aac483846d",
   "metadata": {},
   "outputs": [],
   "source": [
    "import os\n",
    "import h5py\n",
    "import pickle\n",
    "import numpy as np\n",
    "import pandas as pd\n",
    "import seaborn as sns\n",
    "import matplotlib.pyplot as plt\n",
    "\n",
    "from splotch.utils import read_rdump, savagedickey, to_stan_variables"
   ]
  },
  {
   "cell_type": "code",
   "execution_count": 17,
   "id": "b672f2dd-ad40-4b84-ad13-33b4b43cdf32",
   "metadata": {},
   "outputs": [],
   "source": [
    "data_dir = '/mnt/home/adaly/ceph/datasets/mouse_colon/'\n",
    "splotch_inputs = os.path.join(data_dir, 'vanilla_splotch_inputs')\n",
    "splotch_outputs = os.path.join(data_dir, 'vanilla_splotch_outputs_summary')"
   ]
  },
  {
   "cell_type": "markdown",
   "id": "e6b84366-a5b1-4b7f-9839-6fcdccf2af3b",
   "metadata": {},
   "source": [
    "Most important information can be found in the ```information.p``` file created in the top-level splotch input directory:"
   ]
  },
  {
   "cell_type": "code",
   "execution_count": 3,
   "id": "3229a009-a939-4520-8077-24a259e99441",
   "metadata": {},
   "outputs": [
    {
     "name": "stdout",
     "output_type": "stream",
     "text": [
      "dict_keys(['genes', 'filenames_and_coordinates', 'annotation_mapping', 'beta_mapping', 'n_levels', 'metadata', 'scaling_factor', 'car', 'zi', 'nb'])\n"
     ]
    }
   ],
   "source": [
    "sinfo_file = os.path.join(splotch_inputs, 'information.p')\n",
    "sinfo = pickle.load(open(sinfo_file, 'rb'))\n",
    "\n",
    "print(sinfo.keys())"
   ]
  },
  {
   "cell_type": "code",
   "execution_count": 9,
   "id": "27e3ef65-614b-45a1-ba25-64d4f5be3991",
   "metadata": {},
   "outputs": [
    {
     "data": {
      "text/plain": [
       "False"
      ]
     },
     "execution_count": 9,
     "metadata": {},
     "output_type": "execute_result"
    }
   ],
   "source": [
    "sinfo['genes']                     # ordered list of gene names (ordered by cSplotch gene ID)\n",
    "sinfo['filenames_and_coordinates'] # ordered list of unique ST spots (tuple: count_file, xcoor_ycoor)\n",
    "sinfo['annotation_mapping']        # ordered list of MROIs (tissue types) in dataset\n",
    "sinfo['beta_mapping']              # dict mapping different levels of model hierarchy (e.g., 'beta_level_1', 'beta_level_2') to ordered lists of sample conditions\n",
    "sinfo['n_levels']                  # number of levels in the model\n",
    "sinfo['metadata']                  # DataFrame representation of cSplotch metadata file\n",
    "sinfo['scaling_factor']            # scaling factor (total UMIs) relative to which lambda is the expression rate (e.g., [lambda] counts per [scaling_factor] total UMIs)\n",
    "sinfo['car']                       # whether or not CAR prior was included in model\n",
    "sinfo['zi']                        # whether or not zero inflation was included in model\n",
    "sinfo['nb']                        # whether or not negative binomial likelihood was used in model (instead of Poisson)"
   ]
  },
  {
   "cell_type": "markdown",
   "id": "591ec275-e8cc-4a32-a22a-9c108341a3ba",
   "metadata": {},
   "source": [
    "## Visiualizing expression on an array (lambdas)\n",
    "\n",
    "Refer to [Tutorial.ipynb](Tutorial.ipynb)"
   ]
  },
  {
   "cell_type": "markdown",
   "id": "8895262e-271e-4868-aee8-0dbd21043338",
   "metadata": {},
   "source": [
    "## Comparing expression patterns (betas)\n",
    "\n",
    "The first step is to read in h5-formatted data output by ```splotch``` with the ```-s``` command:"
   ]
  },
  {
   "cell_type": "code",
   "execution_count": 13,
   "id": "8fae01c8-2467-43e8-926f-a14a2af9611e",
   "metadata": {},
   "outputs": [
    {
     "name": "stdout",
     "output_type": "stream",
     "text": [
      "cSplotch gene ID: 3094\n"
     ]
    }
   ],
   "source": [
    "# 1. Map gene name to cSplotch ID using the gene list\n",
    "gene_name = 'ENSMUSG00000024029.4'  # common name: Tff3\n",
    "gid = list(sinfo['genes']).index(gene_name) + 1\n",
    "\n",
    "print('cSplotch gene ID: %d' % gid)"
   ]
  },
  {
   "cell_type": "code",
   "execution_count": 19,
   "id": "04a992aa-61dc-4f38-a605-566e4a6d9d24",
   "metadata": {},
   "outputs": [
    {
     "data": {
      "text/plain": [
       "<KeysViewHDF5 ['a', 'beta_level_1', 'beta_level_2', 'beta_level_3', 'lambda', 'log_lambda', 'psi', 'sigma', 'sigma_level_2', 'sigma_level_3', 'tau', 'theta']>"
      ]
     },
     "execution_count": 19,
     "metadata": {},
     "output_type": "execute_result"
    }
   ],
   "source": [
    "# 2. Read in the h5-formatted posterior file:\n",
    "hf = h5py.File(os.path.join(splotch_outputs, str(gid//100), 'combined_%d.hdf5' % gid), 'r')\n",
    "hf.keys()"
   ]
  },
  {
   "cell_type": "code",
   "execution_count": 32,
   "id": "e72c3627-ab8d-4197-aa11-11ec7229bc71",
   "metadata": {},
   "outputs": [
    {
     "name": "stdout",
     "output_type": "stream",
     "text": [
      "Beta variables: (beta_level_1, beta_level_2, beta_level_3):\n",
      "<KeysViewHDF5 ['mean', 'samples', 'std']>\n",
      "All other model variables (e.g., log_lambda):\n",
      "<KeysViewHDF5 ['mean', 'std']>\n"
     ]
    },
    {
     "data": {
      "text/plain": [
       "<HDF5 dataset \"std\": shape (66959,), type \"<f8\">"
      ]
     },
     "execution_count": 32,
     "metadata": {},
     "output_type": "execute_result"
    }
   ],
   "source": [
    "print('Beta variables: (beta_level_1, beta_level_2, beta_level_3):')\n",
    "print(hf['beta_level_1'].keys())\n",
    "hf['beta_level_1']['mean']    # (L1_conds, MROIs) array summarizing posterior mean beta at each L1 condition and MROI\n",
    "hf['beta_level_1']['std']     # (L1_conds, MROIs) array summarizing standard deviation about posterior mean beta at each L1 condition and MROI\n",
    "hf['beta_level_1']['samples'] # (N_samples, L1_conds, MROIs) array containing ALL POSTERIOR SAMPLES over beta\n",
    "\n",
    "print('All other model variables (e.g., log_lambda):')\n",
    "print(hf['log_lambda'].keys())\n",
    "hf['log_lambda']['mean']      # (ndim,) array of mean posterior values of parameter (e.g., lambda)\n",
    "hf['log_lambda']['std']       # (ndim,) array of standard deviations about posterior means (e.g., lambda)\n",
    "#                               ...where \"ndim\" is the dimensionality of the model variable (e.g., N_spots for lambda) "
   ]
  },
  {
   "cell_type": "markdown",
   "id": "b8f4c080-047e-43d5-9e5f-7d53b8bf3388",
   "metadata": {},
   "source": [
    "### Between MROIs"
   ]
  },
  {
   "cell_type": "markdown",
   "id": "927f2a22-2d02-42a3-a7d0-080c191e7d27",
   "metadata": {},
   "source": [
    "Plot the expression of a given gene across several MROIs (in the same L1 condition)"
   ]
  },
  {
   "cell_type": "code",
   "execution_count": 37,
   "id": "6be38556-3b25-4357-bffa-235536172f5c",
   "metadata": {},
   "outputs": [
    {
     "name": "stdout",
     "output_type": "stream",
     "text": [
      "['0d', '12w', '2yr', '1w', '2w', '3w', '4w', '6w', '8w', '6m', '1yr']\n",
      "Index of 12w: 1\n"
     ]
    }
   ],
   "source": [
    "# Find index of desired L1 condition in beta array using to_stan_variables:\n",
    "l1_cond = '12w'\n",
    "print(sinfo['beta_mapping']['beta_level_1'])\n",
    "\n",
    "l1_ind = to_stan_variables(sinfo['beta_mapping']['beta_level_1'], l1_cond)\n",
    "print('Index of %s: %d' % (l1_cond, l1_ind))"
   ]
  },
  {
   "cell_type": "code",
   "execution_count": 53,
   "id": "f4fdfe1b-e333-4178-bdfa-b0dc7b08a99d",
   "metadata": {},
   "outputs": [
    {
     "name": "stdout",
     "output_type": "stream",
     "text": [
      "['crypt apex', 'interna', 'muscle and submucosa', 'epithelium and muscle and submucosa', 'epithelium', 'crypt base and mid', \"peyer's patch\", 'externa', 'crypt mid', 'externa and interna', 'epithelium and mucosae', 'interna and mucosae', 'epithelium and mucosae and submucosa', 'crypt base']\n",
      "Index of crypt apex: 0\n",
      "800 posterior samples for beta(12w, crypt apex)\n",
      "Index of interna: 1\n",
      "800 posterior samples for beta(12w, interna)\n",
      "Index of externa: 7\n",
      "800 posterior samples for beta(12w, externa)\n",
      "Index of peyer's patch: 6\n",
      "800 posterior samples for beta(12w, peyer's patch)\n"
     ]
    },
    {
     "data": {
      "image/png": "[encoded data removed]",
      "text/plain": [
       "<Figure size 640x480 with 1 Axes>"
      ]
     },
     "metadata": {},
     "output_type": "display_data"
    }
   ],
   "source": [
    "# Three MROIs of interest from a list of 14\n",
    "mrois = [\"crypt apex\", \"interna\", \"externa\", \"peyer's patch\"]\n",
    "print(sinfo['annotation_mapping'])\n",
    "\n",
    "fig, ax = plt.subplots(1)\n",
    "\n",
    "for m in mrois:\n",
    "    # Find index of current MROI:\n",
    "    m_ind = to_stan_variables(sinfo['annotation_mapping'], m)\n",
    "    print('Index of %s: %d' % (m, m_ind))\n",
    "    \n",
    "    # Use indices into condition and MROI dimensions of beta to get posterior samples:\n",
    "    samples = hf['beta_level_1']['samples'][:, l1_ind, m_ind].flatten()\n",
    "    print('%d posterior samples for beta(%s, %s)' % (len(samples), l1_cond, m))\n",
    "    \n",
    "    # KDE plot approximating posterior distribution:\n",
    "    sns.kdeplot(samples, ax=ax, label=m)\n",
    "\n",
    "ax.set_xlabel(r'$\\beta$ (log counts)')\n",
    "    \n",
    "plt.legend()\n",
    "plt.title('%s (%s)' % (gene_name, l1_cond))\n",
    "plt.show()"
   ]
  },
  {
   "cell_type": "markdown",
   "id": "54d0cad9-6463-421e-919e-44a6bc30204b",
   "metadata": {},
   "source": [
    "Quantify differential expression using Savage-Dickey density ratio (estimate of Bayes factor):"
   ]
  },
  {
   "cell_type": "code",
   "execution_count": 55,
   "id": "d3f3ed6a-3dab-4549-8cf3-f912f73ca69b",
   "metadata": {},
   "outputs": [
    {
     "name": "stdout",
     "output_type": "stream",
     "text": [
      "crypt apex vs. peyers patch\n",
      "\tBayes factor: 12797.16\n",
      "\tlog fold change: 1.09\n",
      "crypt apex vs. interna\n",
      "\tBayes factor: 5.79\n",
      "\tlog fold change: 0.56\n",
      "externa vs. interna\n",
      "\tBayes factor: 0.08\n",
      "\tlog fold change: 0.11\n"
     ]
    }
   ],
   "source": [
    "ind_apex = to_stan_variables(sinfo['annotation_mapping'], \"crypt apex\")\n",
    "samples_apex = hf['beta_level_1']['samples'][:, l1_ind, ind_apex].flatten()\n",
    "\n",
    "ind_inter = to_stan_variables(sinfo['annotation_mapping'], \"interna\")\n",
    "samples_inter = hf['beta_level_1']['samples'][:, l1_ind, ind_inter].flatten()\n",
    "\n",
    "ind_exter = to_stan_variables(sinfo['annotation_mapping'], \"externa\")\n",
    "samples_exter = hf['beta_level_1']['samples'][:, l1_ind, ind_exter].flatten()\n",
    "\n",
    "ind_pp = to_stan_variables(sinfo['annotation_mapping'], \"peyer's patch\")\n",
    "samples_pp = hf['beta_level_1']['samples'][:, l1_ind, ind_pp].flatten()\n",
    "\n",
    "# crypt apex vs. peyer's patch:\n",
    "bf = savagedickey(samples_apex, samples_pp)\n",
    "delta = hf['beta_level_1']['mean'][l1_ind, ind_apex] - hf['beta_level_1']['mean'][l1_ind, ind_pp]\n",
    "print('crypt apex vs. peyers patch') \n",
    "print('\\tBayes factor: %.2f' % bf)\n",
    "print('\\tlog fold change: %.2f' % delta)\n",
    "\n",
    "# crypt apex vs. interna:\n",
    "bf = savagedickey(samples_apex, samples_inter)\n",
    "delta = hf['beta_level_1']['mean'][l1_ind, ind_apex] - hf['beta_level_1']['mean'][l1_ind, ind_inter]\n",
    "print('crypt apex vs. interna') \n",
    "print('\\tBayes factor: %.2f' % bf)\n",
    "print('\\tlog fold change: %.2f' % delta)\n",
    "\n",
    "# externa vs. interna\n",
    "bf = savagedickey(samples_exter, samples_inter)\n",
    "delta = hf['beta_level_1']['mean'][l1_ind, ind_exter] - hf['beta_level_1']['mean'][l1_ind, ind_inter]\n",
    "print('externa vs. interna') \n",
    "print('\\tBayes factor: %.2f' % bf)\n",
    "print('\\tlog fold change: %.2f' % delta)"
   ]
  },
  {
   "cell_type": "markdown",
   "id": "b6ba612f-591c-4008-afea-e07f7610500e",
   "metadata": {},
   "source": [
    "Based on the [interpretation of Bayes factors](https://en.wikipedia.org/wiki/Bayes_factor#Interpretation), we conclude that gene ENSMUSG00000024029.4 (aka Tff3):\n",
    "- Is highly DE between MROIs \"crypt apex\" and \"peyers patch\"\n",
    "- Is DE between MROIs \"crypt apex\" and \"interna\"\n",
    "- Is not DE between MROIs \"interna\" and \"externa\"\n",
    "\n",
    "**For comparisons between conditions (within an MROI), follow the same logic but vary the condition instead of the MROI** (e.g., for beta_level_1, \"12w\" vs. \"8w\" in \"crypt apex\")"
   ]
  },
  {
   "cell_type": "markdown",
   "id": "364c4f01-3d63-445f-be6b-658d3bb9190a",
   "metadata": {},
   "source": [
    "### Indexing multiple MROIs/conditions:\n",
    "\n",
    "If you would like to compare one MROI/condition vs (all) others, you can use ```to_splotch_variables``` with multiple terms:"
   ]
  },
  {
   "cell_type": "code",
   "execution_count": 58,
   "id": "dc4cc826-0ed7-4da4-a885-72566b2b7edc",
   "metadata": {},
   "outputs": [],
   "source": [
    "inds_muscle = to_stan_variables(sinfo['annotation_mapping'], ['externa','interna'])\n",
    "\n",
    "samples = hf['beta_level_1']['samples'][:, l1_ind, sorted(inds_muscle)]  # Note"
   ]
  },
  {
   "cell_type": "code",
   "execution_count": null,
   "id": "70fdad25-e2f8-44e9-9b6f-ee401aba3a88",
   "metadata": {},
   "outputs": [],
   "source": []
  }
 ],
 "metadata": {
  "kernelspec": {
   "display_name": "splotch-env",
   "language": "python",
   "name": "splotch-env"
  },
  "language_info": {
   "codemirror_mode": {
    "name": "ipython",
    "version": 3
   },
   "file_extension": ".py",
   "mimetype": "text/x-python",
   "name": "python",
   "nbconvert_exporter": "python",
   "pygments_lexer": "ipython3",
   "version": "3.10.8"
  }
 },
 "nbformat": 4,
 "nbformat_minor": 5
}
